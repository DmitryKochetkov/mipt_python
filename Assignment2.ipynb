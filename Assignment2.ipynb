{
 "cells": [
  {
   "cell_type": "markdown",
   "metadata": {},
   "source": [
    "# Python. Assignment 2: Functions (22.09.2021)"
   ]
  },
  {
   "cell_type": "markdown",
   "metadata": {},
   "source": [
    "MIPT Master Program: ML Systems for Smart Production\n",
    "\n",
    "Course: Python (Semester 1)\n",
    "\n",
    "Assignment 2: Functions\n",
    "\n",
    "Code by Dmitry Kochetkov"
   ]
  },
  {
   "cell_type": "markdown",
   "metadata": {},
   "source": [
    "## Problem 1. SumMulDigits\n",
    "\n",
    "Given a string. If it contains `+`, print sum of all the digits in the string. If it contains `*`, print the multiplication of all the digits in the string.\n",
    "\n",
    "**Input**. Input is a single line. It is guaranteed, that it contains **only** one of the sign characters: `+` or `*`.\n",
    "\n",
    "**Output**. Print one integer - required result."
   ]
  },
  {
   "cell_type": "code",
   "execution_count": null,
   "metadata": {},
   "outputs": [],
   "source": [
    "def calc_sum(s: str) -> int:\n",
    "    result = 0\n",
    "    for c in s:\n",
    "        if c.isdigit():\n",
    "            result += int(c)\n",
    "    return result\n",
    "\n",
    "def calc_mul(s: str) -> int:\n",
    "    digit_flag = False\n",
    "    result = 1\n",
    "    for c in s:\n",
    "        if c.isdigit():\n",
    "            digit_flag = True\n",
    "            result *= int(c)\n",
    "\n",
    "    if not digit_flag:\n",
    "        return 0\n",
    "    return result\n",
    "\n",
    "def problem1_solution(s):\n",
    "    if '+' in s:\n",
    "        return calc_sum(s)\n",
    "    elif '*' in s:\n",
    "        return calc_mul(s)\n",
    "\n",
    "s = input()\n",
    "print(problem1_solution(s))    "
   ]
  },
  {
   "cell_type": "markdown",
   "metadata": {},
   "source": [
    "## Problem 2. Args\n",
    "\n",
    "Create a function `find_even(*args)` which takes as input an unknown number of positional arguments (which are integers). This function must return those of this numbers which are even. If there is no even number, it must return string `\"Not found\"`.\n",
    "\n",
    "**Input**. Unknown number of integers divided by spaces. \n",
    "\n",
    "**Output**. Print either a list of integers or `\"Not found\"` string."
   ]
  },
  {
   "cell_type": "code",
   "execution_count": null,
   "metadata": {},
   "outputs": [],
   "source": [
    "def find_even(args):\n",
    "    matching_numbers = []\n",
    "    for item in args:\n",
    "        if item % 2 == 0:\n",
    "            matching_numbers.append(item)\n",
    "\n",
    "    if len(matching_numbers) == 0:\n",
    "        return \"Not found\"\n",
    "    else:\n",
    "        return matching_numbers\n",
    "\n",
    "a = map(int, input().split())\n",
    "print(find_even(a))"
   ]
  },
  {
   "cell_type": "markdown",
   "metadata": {},
   "source": [
    "## Problem 3. DigitConcat\n",
    "\n",
    "Create a function which takes as input two integers $n$ and $k$ and returns the following sum:\n",
    "\n",
    "$$ n + nn + nnn + ... + \\underbrace{n...n}_{k} $$\n",
    "\n",
    "Here $\\underbrace{n...n}_{k}$ means $n$ concatenated k times. For example, a term for $n=61$ and $k=4$ is $61616161$. And the whole sum for $n=61$ and $k=4$ is \n",
    "\n",
    "$$ 61 + 6161 + 616161 + 61616161 = 62238544 $$\n",
    "\n",
    "**Input**. The first line of input contains one integer $n$. The second line of input contains one integer $k$.\n",
    "\n",
    "**Output**. Print the result of a function with given $n$ and $k$."
   ]
  },
  {
   "cell_type": "code",
   "execution_count": null,
   "metadata": {},
   "outputs": [],
   "source": [
    "def digit_concat(n, k):\n",
    "    result = 0\n",
    "    for i in range(1, k+1):\n",
    "        result += int(str(n) * i)\n",
    "\n",
    "    return result\n",
    "\n",
    "n = int(input())\n",
    "k = int(input())\n",
    "print(digit_concat(n, k))"
   ]
  },
  {
   "cell_type": "markdown",
   "metadata": {},
   "source": [
    "## Problem 4. Savings\n",
    "\n",
    "Vasya earned some money. Now he wantes to deposit them.\n",
    "\n",
    "Help Vasya to create a function `bank(money, years, interest)` which returns the amount of money after the deposit. It takes three arguments:\n",
    "\n",
    "- `money` Integer, the initial amount of money. \n",
    "- `years` Integer, deposit term in years.\n",
    "- `interest` Float, nominal annual interest rate.\n",
    "\n",
    "You can calculate final amount of money using the formula from [Russian Wikipedia](https://ru.wikipedia.org/wiki/%D0%91%D0%B0%D0%BD%D0%BA%D0%BE%D0%B2%D1%81%D0%BA%D0%B8%D0%B9_%D0%B2%D0%BA%D0%BB%D0%B0%D0%B4#%D0%92%D0%BA%D0%BB%D0%B0%D0%B4_%D1%81_%D0%BA%D0%B0%D0%BF%D0%B8%D1%82%D0%B0%D0%BB%D0%B8%D0%B7%D0%B0%D1%86%D0%B8%D0%B5%D0%B9_%D0%BF%D1%80%D0%BE%D1%86%D0%B5%D0%BD%D1%82%D0%BE%D0%B2:):\n",
    "\n",
    "$$ P_x = P_0 \\Big( 1 + \\frac{r}{n} \\Big)^{nt} $$\n",
    "\n",
    "Here $P_0$ is `money`, $r$ is `interest`, $n$ is the number of assesment periods per year, $t$ is `years`. In this problem $n=12$. "
   ]
  },
  {
   "cell_type": "code",
   "execution_count": null,
   "metadata": {},
   "outputs": [],
   "source": [
    "def bank(money, years, interest):\n",
    "    return money * ((1.0 + (interest / (12.0 * 100))) ** (12 * years))\n",
    "\n",
    "m = int(input())\n",
    "y = int(input())\n",
    "i = float(input())\n",
    "print(int(bank(m, y, i)))"
   ]
  },
  {
   "cell_type": "markdown",
   "metadata": {},
   "source": [
    "## Problem 5. Ackermann "
   ]
  },
  {
   "cell_type": "markdown",
   "metadata": {},
   "source": [
    "Create a program for calculating the Ackermann Function. It takes as input two integers $m$ and $n$. Ackermann Function is defined recursively:\n",
    "\n",
    "$$ \n",
    "A(m, n) = \\begin{cases}\n",
    "n+1, & m = 0 \\\\\n",
    "A(m-1, 1), & m > 0, n = 0 \\\\\n",
    "A(m-1, A(m, n-1)), & m > 0, n > 0\n",
    "\\end{cases}\n",
    "$$\n",
    "\n",
    "**Input.** Two integers $m$ and $n$ in separate lines.\n",
    "\n",
    "**Output.** Print the Ackermann Function of given $n$ and $m$.\n",
    "\n",
    "**Interesting fact**. The time complexity of the Ackermann Function is quite interesting, you can read about it on the Internet."
   ]
  },
  {
   "cell_type": "code",
   "execution_count": null,
   "metadata": {},
   "outputs": [],
   "source": [
    "def ackermann(m, n):\n",
    "    if m == 0:\n",
    "        return n + 1\n",
    "\n",
    "    if n == 0:\n",
    "        return ackermann(m-1, 1)\n",
    "\n",
    "    return ackermann(m-1, ackermann(m, n-1))\n",
    "\n",
    "m = int(input())\n",
    "n = int(input())\n",
    "print(ackermann(m, n))"
   ]
  },
  {
   "cell_type": "markdown",
   "metadata": {},
   "source": [
    "## Problem 6. Statistics "
   ]
  },
  {
   "cell_type": "markdown",
   "metadata": {},
   "source": [
    "Given a list of numbers and an integer $k$. Find two statisitcs for this sample: the sample mean and \n",
    "\n",
    "**Input.** The first line is a list of integers. The second line is an integer $k$.\n",
    "\n",
    "**Output.** Print two statisitcs (real numbers) in a one line."
   ]
  },
  {
   "cell_type": "code",
   "execution_count": null,
   "metadata": {},
   "outputs": [],
   "source": [
    "def statistics(sample, k):\n",
    "    s = 0.0\n",
    "    for item in sample:\n",
    "        s += item\n",
    "\n",
    "    mean = s / len(sample)\n",
    "    \n",
    "    s = 0.0\n",
    "    for item in sample:\n",
    "        s += (item - mean) ** k\n",
    "\n",
    "    moment = s / len(sample)\n",
    "\n",
    "    return (mean, moment)\n",
    "\n",
    "l = list(map(int, input().split()))\n",
    "k = int(input())\n",
    "result = statistics(l, k)\n",
    "print('{0} {1}'.format(*result))"
   ]
  },
  {
   "cell_type": "markdown",
   "metadata": {},
   "source": [
    "## Problem 7. Recursive Function"
   ]
  },
  {
   "cell_type": "markdown",
   "metadata": {},
   "source": [
    "Calculate the recursive function $f$:\n",
    "\n",
    "$$\n",
    "f(n) = \\begin{cases}\n",
    "n, & n < 40 \\\\\n",
    "f(n-40) + f(n-20) + f(n-5) + f(n-1), & n >= 40\n",
    "\\end{cases}\n",
    "$$\n",
    "\n",
    "**Input.** The single line of input contains one integer $ n \\le 10000 $.\n",
    "\n",
    "**Output.** Print one integer - $f(n)$."
   ]
  },
  {
   "cell_type": "code",
   "execution_count": null,
   "metadata": {},
   "outputs": [],
   "source": [
    "from functools import lru_cache\n",
    "\n",
    "@lru_cache(None)\n",
    "def f(n):\n",
    "    if n < 40:\n",
    "        return n\n",
    "\n",
    "    return f(n - 40) + f(n - 20) + f(n - 5) + f(n - 1)\n",
    "\n",
    "n = int(input())\n",
    "print(f(n))"
   ]
  }
 ],
 "metadata": {
  "interpreter": {
   "hash": "63fd5069d213b44bf678585dea6b12cceca9941eaf7f819626cde1f2670de90d"
  },
  "kernelspec": {
   "display_name": "Python 3.9.1 64-bit",
   "name": "python3"
  },
  "language_info": {
   "codemirror_mode": {
    "name": "ipython",
    "version": 3
   },
   "file_extension": ".py",
   "mimetype": "text/x-python",
   "name": "python",
   "nbconvert_exporter": "python",
   "pygments_lexer": "ipython3",
   "version": "3.8.8"
  },
  "orig_nbformat": 4
 },
 "nbformat": 4,
 "nbformat_minor": 2
}
