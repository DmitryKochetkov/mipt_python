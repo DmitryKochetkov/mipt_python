{
 "cells": [
  {
   "cell_type": "markdown",
   "source": [
    "# Python. Assignment 1: Simple Problems (15.09.2021)"
   ],
   "metadata": {}
  },
  {
   "cell_type": "markdown",
   "source": [
    "MIPT Master Program: ML Systems for Smart Production\r\n",
    "\r\n",
    "Course: Python (Semester 1)\r\n",
    "\r\n",
    "Assignment 1: Simple problems\r\n",
    "\r\n",
    "Code by Dmitry Kochetkov"
   ],
   "metadata": {}
  },
  {
   "cell_type": "markdown",
   "source": [
    "## Problem 1. Sine\r\n",
    "\r\n",
    "Calculate sine of an angle in a right triangle.\r\n",
    "\r\n",
    "**Input**. First line contains one real number - length of an opposite leg. Second line contains one real number - length of the hypotenuse.\r\n",
    "\r\n",
    "**Output**. Program prints one real number - sine of an angle."
   ],
   "metadata": {}
  },
  {
   "cell_type": "code",
   "execution_count": null,
   "source": [
    "a = float(input())\r\n",
    "b = float(input())\r\n",
    "\r\n",
    "print(\"%.3f\" % round(a / b, 3))"
   ],
   "outputs": [],
   "metadata": {}
  },
  {
   "cell_type": "markdown",
   "source": [
    "## Problem 2. Origin 3D.\r\n",
    "\r\n",
    "Create a function which calculates the origin of a point in the three-dimensional space.\r\n",
    "\r\n",
    "**Input**. Each of three lines of input contains one real number - coordinate of the point.\r\n",
    "\r\n",
    "**Output**. Program prints one real number - origin of the point."
   ],
   "metadata": {}
  },
  {
   "cell_type": "code",
   "execution_count": null,
   "source": [
    "from math import sqrt\r\n",
    "\r\n",
    "x = float(input())\r\n",
    "y = float(input())\r\n",
    "z = float(input())\r\n",
    "\r\n",
    "r = sqrt(x * x + y * y + z * z)\r\n",
    "print(\"%.4f\" % round(r, 4))"
   ],
   "outputs": [],
   "metadata": {}
  },
  {
   "cell_type": "markdown",
   "source": [
    "## Problem 3. Dist 3D.\r\n",
    "\r\n",
    "Calculate the distance between two points in the three-dimensional space.\r\n",
    "\r\n",
    "**Input**. First line contains three float numbers - coordinates of the first point. Second line contains three float numbers - coordinates of the second point.\r\n",
    "\r\n",
    "**Output**. Program prints one real number - distance between points."
   ],
   "metadata": {}
  },
  {
   "cell_type": "code",
   "execution_count": null,
   "source": [
    "from math import sqrt\r\n",
    "\r\n",
    "x1, y1, z1 = map(float, input().split())\r\n",
    "x2, y2, z2 = map(float, input().split())\r\n",
    "\r\n",
    "r = sqrt((x1 - x2) ** 2 + (y1 - y2) ** 2 + (z1 - z2) ** 2)\r\n",
    "\r\n",
    "print(\"%.6f\" % round(r, 6))"
   ],
   "outputs": [],
   "metadata": {}
  },
  {
   "cell_type": "markdown",
   "source": [
    "## Problem 4. Count Zap.\r\n",
    "\r\n",
    "Given a string. Count all entries of the word `ZAP`.\r\n",
    "\r\n",
    "**Input**. Each of three lines of input contains one real number - coordinate of the point.\r\n",
    "\r\n",
    "**Output**. Program prints one integer - count of all entries of the word `ZAP`."
   ],
   "metadata": {}
  },
  {
   "cell_type": "code",
   "execution_count": null,
   "source": [
    "words = input().split()\r\n",
    "\r\n",
    "c = 0\r\n",
    "for word in words:\r\n",
    "    if word == 'ZAP':\r\n",
    "        c += 1\r\n",
    "\r\n",
    "print(c)"
   ],
   "outputs": [],
   "metadata": {}
  },
  {
   "cell_type": "markdown",
   "source": [
    "## Problem 5. Degrees.\r\n",
    "\r\n",
    "Given two angles in range from 0 to 359 degrees. The first angle is an initial angle. The second angle is a steering angle. Find the resulting rotation.\r\n",
    "\r\n",
    "**Input.** The first line of input contains one integer in range from 0 to 359 - initial angle. The second line of input containts one integer in the same range - the steering angle."
   ],
   "metadata": {}
  },
  {
   "cell_type": "code",
   "execution_count": null,
   "source": [
    "a = int(input())\r\n",
    "b = int(input())\r\n",
    "\r\n",
    "print((a + b) % 360)"
   ],
   "outputs": [],
   "metadata": {}
  }
 ],
 "metadata": {
  "orig_nbformat": 4,
  "language_info": {
   "name": "python",
   "version": "3.9.1",
   "mimetype": "text/x-python",
   "codemirror_mode": {
    "name": "ipython",
    "version": 3
   },
   "pygments_lexer": "ipython3",
   "nbconvert_exporter": "python",
   "file_extension": ".py"
  },
  "kernelspec": {
   "name": "python3",
   "display_name": "Python 3.9.1 64-bit"
  },
  "interpreter": {
   "hash": "63fd5069d213b44bf678585dea6b12cceca9941eaf7f819626cde1f2670de90d"
  }
 },
 "nbformat": 4,
 "nbformat_minor": 2
}